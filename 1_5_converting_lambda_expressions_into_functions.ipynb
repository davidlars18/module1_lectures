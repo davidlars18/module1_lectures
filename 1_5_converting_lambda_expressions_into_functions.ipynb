{
  "nbformat": 4,
  "nbformat_minor": 0,
  "metadata": {
    "anaconda-cloud": {},
    "kernelspec": {
      "display_name": "Python 3",
      "language": "python",
      "name": "python3"
    },
    "language_info": {
      "codemirror_mode": {
        "name": "ipython",
        "version": 3
      },
      "file_extension": ".py",
      "mimetype": "text/x-python",
      "name": "python",
      "nbconvert_exporter": "python",
      "pygments_lexer": "ipython3",
      "version": "3.7.2"
    },
    "nbpresent": {
      "slides": {
        "d8cfa8b7-18e5-4d2f-8e92-8164c8bfad3b": {
          "id": "d8cfa8b7-18e5-4d2f-8e92-8164c8bfad3b",
          "prev": null,
          "regions": {
            "81231d63-4899-45f2-b382-fabf4f762896": {
              "attrs": {
                "height": 0.8,
                "width": 0.45,
                "x": 0.5,
                "y": 0.1
              },
              "id": "81231d63-4899-45f2-b382-fabf4f762896"
            },
            "b40d103d-8d7f-44de-8fca-19b2f9861cdd": {
              "attrs": {
                "height": 0.8,
                "width": 0.45,
                "x": 0.05,
                "y": 0.1
              },
              "id": "b40d103d-8d7f-44de-8fca-19b2f9861cdd"
            }
          }
        }
      },
      "themes": {}
    },
    "colab": {
      "name": "1_5_converting_lambda_expressions_into_functions.ipynb",
      "provenance": [],
      "include_colab_link": true
    }
  },
  "cells": [
    {
      "cell_type": "markdown",
      "metadata": {
        "id": "view-in-github",
        "colab_type": "text"
      },
      "source": [
        "<a href=\"https://colab.research.google.com/github/davidlars18/module1_lectures/blob/master/1_5_converting_lambda_expressions_into_functions.ipynb\" target=\"_parent\"><img src=\"https://colab.research.google.com/assets/colab-badge.svg\" alt=\"Open In Colab\"/></a>"
      ]
    },
    {
      "cell_type": "markdown",
      "metadata": {
        "nbpresent": {
          "id": "72b0ede6-af2b-41e9-81af-16c345e658d3"
        },
        "id": "RjP6QMAdgv9W",
        "colab_type": "text"
      },
      "source": [
        "# Converting Lambda Expressions and Functions\n",
        "\n",
        "## Objectives\n",
        "\n",
        "1. Understand abstracting expressions through variables and functions\n",
        "2. Convert a `lambda` function into a `def` statement\n",
        "3. Write good doc strings\n",
        "4. Understand the relationship between `help` and a doc string.\n",
        "5. Understand the `assert` statement\n",
        "6. Write unit tests using a test function with assert statements."
      ]
    },
    {
      "cell_type": "markdown",
      "metadata": {
        "nbpresent": {
          "id": "139d8bbf-a76a-4fae-a525-ee2c85a0f229"
        },
        "id": "K05Ue4eZgv9Y",
        "colab_type": "text"
      },
      "source": [
        "## Reusing expressions\n",
        "\n",
        "* Replace values with variables\n",
        "* Identify variables that might change\n",
        "* Make a function with the **lambda expression**\n",
        "    * changeable variables are **expressions**"
      ]
    },
    {
      "cell_type": "markdown",
      "metadata": {
        "id": "4ncE0NQhgv9a",
        "colab_type": "text"
      },
      "source": [
        "## Abstraction\n",
        "\n",
        "Applying an **abstraction** involves replacing ***programming detail/complexity*** with a ***meaningful name***."
      ]
    },
    {
      "cell_type": "markdown",
      "metadata": {
        "id": "xVM-ti0Vgv9a",
        "colab_type": "text"
      },
      "source": [
        "## Abstracting with Variables\n",
        "\n",
        "* **Abstraction Step 1:** Replace all raww values with a meaningful name"
      ]
    },
    {
      "cell_type": "code",
      "metadata": {
        "nbpresent": {
          "id": "812d71b9-f46b-418e-8778-ce9d26182b00"
        },
        "id": "g5d4d0nogv9b",
        "colab_type": "code",
        "colab": {},
        "outputId": "46c57e92-9b19-48d3-936a-fb0788ecbe07"
      },
      "source": [
        "# Original Computatation\n",
        "12*15*0.5625"
      ],
      "execution_count": null,
      "outputs": [
        {
          "output_type": "execute_result",
          "data": {
            "text/plain": [
              "101.25"
            ]
          },
          "metadata": {
            "tags": []
          },
          "execution_count": 66
        }
      ]
    },
    {
      "cell_type": "code",
      "metadata": {
        "nbpresent": {
          "id": "35b904eb-7df9-47d9-84bf-31f1d7056530"
        },
        "id": "mDCgwaEmgv9g",
        "colab_type": "code",
        "colab": {},
        "outputId": "db40f48e-5f5d-4cb0-f09d-56e6185d0de8"
      },
      "source": [
        "# Substitute names for values to add meaning\n",
        "length = 12\n",
        "width = 15\n",
        "tile_conv = 0.5625\n",
        "num_tile = length*width*tile_conv\n",
        "num_tile"
      ],
      "execution_count": null,
      "outputs": [
        {
          "output_type": "execute_result",
          "data": {
            "text/plain": [
              "101.25"
            ]
          },
          "metadata": {
            "tags": []
          },
          "execution_count": 67
        }
      ]
    },
    {
      "cell_type": "markdown",
      "metadata": {
        "id": "6_i0B1C3gv9k",
        "colab_type": "text"
      },
      "source": [
        "## Abstracting with Lambda Expressions\n",
        "\n",
        "* **Abstraction Step 2:** Packaged expressions in `lambda` to allow reuse."
      ]
    },
    {
      "cell_type": "markdown",
      "metadata": {
        "nbpresent": {
          "id": "03905b36-aec7-42fb-881c-add435565cf0"
        },
        "id": "CM1_jJXLgv9k",
        "colab_type": "text"
      },
      "source": [
        "#### Identify the variables that might change\n",
        "\n",
        "<font color=\"green\">length</font>\\*<font color=\"red\"> width</font>\\*tile_conv\n"
      ]
    },
    {
      "cell_type": "code",
      "metadata": {
        "nbpresent": {
          "id": "99084922-c9bf-40e0-994c-08635f8e42df"
        },
        "id": "l_ntUWgCgv9l",
        "colab_type": "code",
        "colab": {},
        "outputId": "dd7b463e-197e-406d-8c28-3c035dc582b7"
      },
      "source": [
        "tile_conv = 0.5625\n",
        "num_tile = lambda length, width: length*width*tile_conv\n",
        "num_tile(12,15) "
      ],
      "execution_count": null,
      "outputs": [
        {
          "output_type": "execute_result",
          "data": {
            "text/plain": [
              "101.25"
            ]
          },
          "metadata": {
            "tags": []
          },
          "execution_count": 15
        }
      ]
    },
    {
      "cell_type": "markdown",
      "metadata": {
        "nbpresent": {
          "id": "2d179aa5-ae35-4577-bdbb-de0625bba434"
        },
        "id": "9WokfKJIgv9o",
        "colab_type": "text"
      },
      "source": [
        "## How to read a lambda expression\n",
        "\n",
        "* `lambda` means execute later\n",
        "    * does nothing now\n",
        "* Parameter(s) are \"hole(s)\" in the expression\n",
        "    * value filled in later"
      ]
    },
    {
      "cell_type": "markdown",
      "metadata": {
        "nbpresent": {
          "id": "53694070-bd79-4540-bdfa-e1c2fdf22fd1"
        },
        "id": "T55t1mF8gv9o",
        "colab_type": "text"
      },
      "source": [
        "### The `def` statement\n",
        "\n",
        "* Starts with `def`\n",
        "* First line is header\n",
        "    * name\n",
        "    * parameters (in parentheses)\n",
        "    * ends in `:` \n",
        "        * to open a code block\n",
        "* Body\n",
        "    * Indented 4 spaces\n",
        "    * Requires explicit `return`"
      ]
    },
    {
      "cell_type": "code",
      "metadata": {
        "nbpresent": {
          "id": "b21c836a-c268-42b2-8e1f-78700a6ece84"
        },
        "id": "o9OAS1MAgv9p",
        "colab_type": "code",
        "colab": {}
      },
      "source": [
        "def sum_sqr(x, y):\n",
        "    \"\"\" Square and add two numbers\"\"\"\n",
        "    output = x**2 + y**2\n",
        "    return output"
      ],
      "execution_count": null,
      "outputs": []
    },
    {
      "cell_type": "markdown",
      "metadata": {
        "nbpresent": {
          "id": "85bb9fd3-b19e-4408-b5bf-43f20eb6c4cf"
        },
        "id": "8kCRT0SMgv9r",
        "colab_type": "text"
      },
      "source": [
        "<img src=\"https://github.com/wsu-stat489/USCOTS2017_workshop/blob/master/img/def_statement_all2.png?raw=true\">"
      ]
    },
    {
      "cell_type": "markdown",
      "metadata": {
        "nbpresent": {
          "id": "2fe549c7-4dce-4c4f-b977-97cf7a030e67"
        },
        "id": "-wcQYlsrgv9s",
        "colab_type": "text"
      },
      "source": [
        "## Docstrings \n",
        "\n",
        "* Docstring: String on the first line of a `def` statement\n",
        "    * Usually multiline\n",
        "* doc strings are used to document functions\n",
        "    * What is shown when calling help\n",
        "* [Google's rules for doc strings](https://google.github.io/styleguide/pyguide.html#383-functions-and-methods)"
      ]
    },
    {
      "cell_type": "code",
      "metadata": {
        "nbpresent": {
          "id": "604ac523-c97d-42f1-b686-c9b4f8a790c9"
        },
        "id": "HIc9igjrgv9s",
        "colab_type": "code",
        "colab": {}
      },
      "source": [
        "def sum_sqr(x, y):\n",
        "    \"\"\" adds the squares of two numbers\n",
        "    \n",
        "    Args:\n",
        "        x: a number\n",
        "        y: a number\n",
        "        \n",
        "    Returns:\n",
        "        A number that is the sum of the squared\n",
        "        values of x and y\n",
        "    \"\"\"\n",
        "    output = x**2 + y**2\n",
        "    return output"
      ],
      "execution_count": null,
      "outputs": []
    },
    {
      "cell_type": "code",
      "metadata": {
        "nbpresent": {
          "id": "588318bd-7982-4084-af14-614a2aee87d7"
        },
        "id": "CQw613UFgv9v",
        "colab_type": "code",
        "colab": {},
        "outputId": "85b4ead6-6a65-4221-c570-f151044ec429"
      },
      "source": [
        "help(sum_sqr)"
      ],
      "execution_count": null,
      "outputs": [
        {
          "output_type": "stream",
          "text": [
            "Help on function sum_sqr in module __main__:\n",
            "\n",
            "sum_sqr(x, y)\n",
            "    adds the squares of two numbers\n",
            "    \n",
            "    Args:\n",
            "        x: a number\n",
            "        y: a number\n",
            "        \n",
            "    Returns:\n",
            "        A number that is the sum of the squared\n",
            "        values of x and y\n",
            "\n"
          ],
          "name": "stdout"
        }
      ]
    },
    {
      "cell_type": "markdown",
      "metadata": {
        "nbpresent": {
          "id": "225cece1-b179-43c6-a128-4c2ddb0a90e0"
        },
        "id": "wZjaTyjpgv9z",
        "colab_type": "text"
      },
      "source": [
        "## The `assert` statement\n",
        "\n",
        "* Syntax: `assert expression`\n",
        "* Silent if expression is true\n",
        "* Error if expression is false\n",
        "* Include and optional message"
      ]
    },
    {
      "cell_type": "code",
      "metadata": {
        "nbpresent": {
          "id": "fa3c9967-4805-45fb-b5af-a108dc483fa4"
        },
        "id": "kaQqraeQgv90",
        "colab_type": "code",
        "colab": {}
      },
      "source": [
        "assert sum_sqr(3, 4) == 25\n",
        "assert sum_sqr(0, 0) == 0"
      ],
      "execution_count": null,
      "outputs": []
    },
    {
      "cell_type": "code",
      "metadata": {
        "nbpresent": {
          "id": "1a08086d-b272-499f-be19-91ef6665a8db"
        },
        "id": "YPAzVW5Ogv93",
        "colab_type": "code",
        "colab": {},
        "outputId": "a77d362d-bf74-4f7a-a18f-b614361b8915"
      },
      "source": [
        "assert sum_sqr(3, 4) == 5"
      ],
      "execution_count": null,
      "outputs": [
        {
          "output_type": "error",
          "ename": "AssertionError",
          "evalue": "",
          "traceback": [
            "\u001b[0;31m---------------------------------------------------------------------------\u001b[0m",
            "\u001b[0;31mAssertionError\u001b[0m                            Traceback (most recent call last)",
            "\u001b[0;32m<ipython-input-16-87846395074d>\u001b[0m in \u001b[0;36m<module>\u001b[0;34m()\u001b[0m\n\u001b[0;32m----> 1\u001b[0;31m \u001b[0;32massert\u001b[0m \u001b[0msum_sqr\u001b[0m\u001b[0;34m(\u001b[0m\u001b[0;36m3\u001b[0m\u001b[0;34m,\u001b[0m \u001b[0;36m4\u001b[0m\u001b[0;34m)\u001b[0m \u001b[0;34m==\u001b[0m \u001b[0;36m5\u001b[0m\u001b[0;34m\u001b[0m\u001b[0;34m\u001b[0m\u001b[0m\n\u001b[0m",
            "\u001b[0;31mAssertionError\u001b[0m: "
          ]
        }
      ]
    },
    {
      "cell_type": "code",
      "metadata": {
        "nbpresent": {
          "id": "1a08086d-b272-499f-be19-91ef6665a8db"
        },
        "id": "JD1SRRRxgv95",
        "colab_type": "code",
        "colab": {},
        "outputId": "8135c0b2-7920-4a8b-9476-a919a888b227"
      },
      "source": [
        "assert sum_sqr(3, 4) == 5, \"3**2 + 4**2 is not 5, but 5**2\""
      ],
      "execution_count": null,
      "outputs": [
        {
          "output_type": "error",
          "ename": "AssertionError",
          "evalue": "3**2 + 4**2 is not 5, but 5**2",
          "traceback": [
            "\u001b[0;31m---------------------------------------------------------------------------\u001b[0m",
            "\u001b[0;31mAssertionError\u001b[0m                            Traceback (most recent call last)",
            "\u001b[0;32m<ipython-input-17-b764e90a5dfb>\u001b[0m in \u001b[0;36m<module>\u001b[0;34m()\u001b[0m\n\u001b[0;32m----> 1\u001b[0;31m \u001b[0;32massert\u001b[0m \u001b[0msum_sqr\u001b[0m\u001b[0;34m(\u001b[0m\u001b[0;36m3\u001b[0m\u001b[0;34m,\u001b[0m \u001b[0;36m4\u001b[0m\u001b[0;34m)\u001b[0m \u001b[0;34m==\u001b[0m \u001b[0;36m5\u001b[0m\u001b[0;34m,\u001b[0m \u001b[0;34m\"3**2 + 4**2 is not 5, but 5**2\"\u001b[0m\u001b[0;34m\u001b[0m\u001b[0;34m\u001b[0m\u001b[0m\n\u001b[0m",
            "\u001b[0;31mAssertionError\u001b[0m: 3**2 + 4**2 is not 5, but 5**2"
          ]
        }
      ]
    },
    {
      "cell_type": "markdown",
      "metadata": {
        "nbpresent": {
          "id": "ac34b162-18d8-42ae-a027-2385fb086ddc"
        },
        "id": "LYKY4eaygv99",
        "colab_type": "text"
      },
      "source": [
        "## Writing test functions\n",
        "\n",
        "* Name the function \"test_func_name\"\n",
        "    * Allows automatic testing with py.test module\n",
        "* Body consists of assert statements\n",
        "* Follow with a function call\n",
        "* No errors == passed the test"
      ]
    },
    {
      "cell_type": "code",
      "metadata": {
        "nbpresent": {
          "id": "e0eaeee6-7ec6-4d69-b6b7-be46baa0c571"
        },
        "id": "yBxuKBO4gv9-",
        "colab_type": "code",
        "colab": {}
      },
      "source": [
        "def test_leap_year():\n",
        "    assert sum_sqr(3,4) == 25\n",
        "    assert sum_sqr(-3,4) == 25\n",
        "    assert sum_sqr(0,3) == 9\n",
        "    assert sum_sqr(3, 0) == 9\n",
        "    assert sum_sqr(0, 0) == 0\n",
        "test_leap_year() # Silence is golden!"
      ],
      "execution_count": null,
      "outputs": []
    },
    {
      "cell_type": "markdown",
      "metadata": {
        "id": "GbjjaBfagv-B",
        "colab_type": "text"
      },
      "source": [
        "### Converting `lambda` expression to `def` statements\n",
        "\n",
        "* lambda expressions process one expression\n",
        "    * add one assignment statement\n",
        "* lambda expressions always return the value\n",
        "    * add a return statement\n",
        "* Always test on some examples!"
      ]
    },
    {
      "cell_type": "code",
      "metadata": {
        "id": "7A9_Nrltgv-B",
        "colab_type": "code",
        "colab": {},
        "outputId": "749730fb-da12-469e-8ba7-811107699b6b"
      },
      "source": [
        "tile_conv = 0.5625\n",
        "num_tile = lambda length, width: length*width*tile_conv\n",
        "num_tile(10,12)"
      ],
      "execution_count": null,
      "outputs": [
        {
          "output_type": "execute_result",
          "data": {
            "text/plain": [
              "67.5"
            ]
          },
          "metadata": {
            "tags": []
          },
          "execution_count": 22
        }
      ]
    },
    {
      "cell_type": "code",
      "metadata": {
        "id": "Z6iGHTltgv-H",
        "colab_type": "code",
        "colab": {}
      },
      "source": [
        "def num_tile(length, width):\n",
        "    \"\"\"Compute the number of 9 inch \n",
        "       tile for a room of area length*width\n",
        "       \n",
        "       Args:\n",
        "           length: a number that is length of the room in feet\n",
        "           width: a number that is width of the room in feet\n",
        "           \n",
        "       Returns:\n",
        "           A number representing the number of 9 inch tile \n",
        "           needed to tile the room\n",
        "    \"\"\"\n",
        "    output = length*width*tile_conv\n",
        "    return output\n",
        "\n",
        "def test_num_tile():\n",
        "    assert num_tile(10, 12) == 67.5\n",
        "    assert num_tile(0, 12) == 0\n",
        "test_num_tile()"
      ],
      "execution_count": null,
      "outputs": []
    },
    {
      "cell_type": "markdown",
      "metadata": {
        "id": "EV8DMCf5gv-L",
        "colab_type": "text"
      },
      "source": [
        "<img src=\"https://github.com/wsu-stat489/USCOTS2017_workshop/blob/master/img/how_I_write_programs.png?raw=true\">"
      ]
    },
    {
      "cell_type": "markdown",
      "metadata": {
        "id": "q4x5oV02gv-M",
        "colab_type": "text"
      },
      "source": [
        "### <font color=\"red\"> Exercise 4 </font>\n",
        "\n",
        "Many people keep time using a 24 hour clock (11 is 11am and 23 is 11pm, 0 is midnight). If it is currently 13 and you set your alarm to go off in 50 hours, it will be 15 (3pm). Write a Python function to solve the general version of the above problem using variables and functions. \n",
        "\n",
        "**Hint** You will want to use modular arithmetic"
      ]
    },
    {
      "cell_type": "markdown",
      "metadata": {
        "id": "J7rcqdV7gv-N",
        "colab_type": "text"
      },
      "source": [
        "#### Step 1 - Solve a specific example with variables and expressions"
      ]
    },
    {
      "cell_type": "code",
      "metadata": {
        "id": "FiVmiIRHgv-O",
        "colab_type": "code",
        "colab": {
          "base_uri": "https://localhost:8080/",
          "height": 34
        },
        "outputId": "586ee7a4-f09e-47c7-9e67-334b1594146d"
      },
      "source": [
        "current = 13\n",
        "timer = 50\n",
        "alarm = (current + timer) % 24 \n",
        "alarm      "
      ],
      "execution_count": 5,
      "outputs": [
        {
          "output_type": "execute_result",
          "data": {
            "text/plain": [
              "15"
            ]
          },
          "metadata": {
            "tags": []
          },
          "execution_count": 5
        }
      ]
    },
    {
      "cell_type": "markdown",
      "metadata": {
        "id": "kEXRkJ3pgv-Q",
        "colab_type": "text"
      },
      "source": [
        "#### Step 2 - Convert your expression to a general solution with a `lambda` expression"
      ]
    },
    {
      "cell_type": "code",
      "metadata": {
        "id": "1ZGQtB_agv-Q",
        "colab_type": "code",
        "colab": {
          "base_uri": "https://localhost:8080/",
          "height": 34
        },
        "outputId": "055f6c5a-ef27-4d8f-ef9f-2d886c37a8d1"
      },
      "source": [
        "alarm = lambda x, y : (x+y) % 24\n",
        "alarm(13, 50)"
      ],
      "execution_count": 8,
      "outputs": [
        {
          "output_type": "execute_result",
          "data": {
            "text/plain": [
              "15"
            ]
          },
          "metadata": {
            "tags": []
          },
          "execution_count": 8
        }
      ]
    },
    {
      "cell_type": "markdown",
      "metadata": {
        "id": "UddLbHf_gv-U",
        "colab_type": "text"
      },
      "source": [
        "#### Step 3 - Convert your `lambda` expression to a function (remember to return)"
      ]
    },
    {
      "cell_type": "code",
      "metadata": {
        "id": "TwszN1xMgv-V",
        "colab_type": "code",
        "colab": {
          "base_uri": "https://localhost:8080/",
          "height": 34
        },
        "outputId": "1bfd6739-6707-40fb-a308-630e8e5c8706"
      },
      "source": [
        "def alarm(current, timer):\n",
        "  output = (current + timer) % 24\n",
        "  return output\n",
        "\n",
        "alarm(13,50)"
      ],
      "execution_count": 11,
      "outputs": [
        {
          "output_type": "execute_result",
          "data": {
            "text/plain": [
              "15"
            ]
          },
          "metadata": {
            "tags": []
          },
          "execution_count": 11
        }
      ]
    },
    {
      "cell_type": "markdown",
      "metadata": {
        "id": "A80yCjSrgv-X",
        "colab_type": "text"
      },
      "source": [
        "#### Step 4 - Clean up your code by adding a docstring and test function"
      ]
    },
    {
      "cell_type": "code",
      "metadata": {
        "id": "VZYWJcLIgv-X",
        "colab_type": "code",
        "colab": {}
      },
      "source": [
        "def alarm(current, timer):\n",
        "  \"\"\"Finds the time an alarm will go off after however many hours\"\n",
        "  Args:\n",
        "  current: current time\n",
        "  timer: number of hours until the alarm will go off\n",
        "\n",
        "  returns: the time that the alarm will go off\"\"\"\n",
        "  output = (current + timer) % 24\n",
        "  return output\n",
        "\n",
        "def test_alarm():\n",
        "  assert alarm(10,5) == 15\n",
        "  assert alarm(15,25) == 16\n",
        "\n",
        "test_alarm()"
      ],
      "execution_count": 15,
      "outputs": []
    }
  ]
}